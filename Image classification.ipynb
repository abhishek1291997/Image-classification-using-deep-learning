{
 "cells": [
  {
   "cell_type": "code",
   "execution_count": 1,
   "metadata": {},
   "outputs": [
    {
     "name": "stderr",
     "output_type": "stream",
     "text": [
      "Using TensorFlow backend.\n"
     ]
    }
   ],
   "source": [
    "import numpy as np \n",
    "import pandas as pd\n",
    "import glob\n",
    "import cv2\n",
    "import os\n",
    "from pathlib import Path\n",
    "from sklearn.utils import shuffle\n",
    "from sklearn.model_selection import train_test_split\n",
    "from keras.utils import to_categorical\n",
    "from keras.preprocessing.image import ImageDataGenerator\n",
    "from keras.layers import Conv2D, MaxPooling2D, Flatten, Dense, BatchNormalization, Dropout,SeparableConv2D\n",
    "from keras.models import Sequential"
   ]
  },
  {
   "cell_type": "code",
   "execution_count": 2,
   "metadata": {},
   "outputs": [],
   "source": [
    "import warnings\n",
    "warnings.filterwarnings(\"ignore\")"
   ]
  },
  {
   "cell_type": "code",
   "execution_count": 3,
   "metadata": {},
   "outputs": [
    {
     "name": "stdout",
     "output_type": "stream",
     "text": [
      "['intel-image-classification_2.zip', 'New folder', 'seg_pred', 'seg_pred.zip', 'seg_test', 'seg_test.zip', 'seg_train', 'seg_train.zip']\n"
     ]
    }
   ],
   "source": [
    "print(os.listdir(r'C:\\Users\\Abhishek\\JUPYTER\\Intel image classification'))"
   ]
  },
  {
   "cell_type": "code",
   "execution_count": 4,
   "metadata": {},
   "outputs": [],
   "source": [
    "data_dir = Path('C:/Users/Abhishek/JUPYTER/Intel image classification')\n",
    "\n",
    "train_dir = data_dir / 'seg_train' \n",
    "test_dir  = data_dir / 'seg_test' \n",
    "pred_dir  = data_dir / 'seg_pred' "
   ]
  },
  {
   "cell_type": "code",
   "execution_count": 5,
   "metadata": {},
   "outputs": [],
   "source": [
    "X_train = []\n",
    "Y_train = []\n",
    "X_test  = []\n",
    "Y_test  = []\n",
    "X_pred  = []"
   ]
  },
  {
   "cell_type": "code",
   "execution_count": 6,
   "metadata": {},
   "outputs": [],
   "source": [
    "# Getting files and appending to their respective lists\n",
    "buildings_dir = train_dir / 'buildings'\n",
    "buildings     = buildings_dir.glob('*.jpg')\n",
    "\n",
    "forest_dir    = train_dir / 'forest'\n",
    "forest        = forest_dir.glob('*.jpg')\n",
    "\n",
    "glacier_dir   = train_dir / 'buildings'\n",
    "glacier       = glacier_dir.glob('*.jpg')\n",
    "\n",
    "mountain_dir  = train_dir / 'mountain'\n",
    "mountain      = mountain_dir.glob('*.jpg')\n",
    "\n",
    "sea_dir       = train_dir / 'sea'\n",
    "sea           = sea_dir.glob('*.jpg')\n",
    "\n",
    "street_dir    = train_dir / 'street'\n",
    "street        = street_dir.glob('*.jpg')\n"
   ]
  },
  {
   "cell_type": "code",
   "execution_count": 7,
   "metadata": {},
   "outputs": [],
   "source": [
    "# Reading image files of training data\n",
    "\n",
    "height = 64 \n",
    "width  = 64\n",
    "for a in buildings:\n",
    "    image = cv2.imread(str(a))\n",
    "    resizeimage = cv2.resize(image, (height,width))\n",
    "    img = resizeimage.astype(np.float32)/255.\n",
    "    label = to_categorical(0, num_classes=6)\n",
    "    X_train.append((img))\n",
    "    Y_train.append((label))\n",
    "for b in forest:\n",
    "    image = cv2.imread(str(b))\n",
    "    resizeimage = cv2.resize(image, (height,width))\n",
    "    img = resizeimage.astype(np.float32)/255.\n",
    "    label = to_categorical(1, num_classes=6)\n",
    "    X_train.append((img))\n",
    "    Y_train.append((label))\n",
    "for c in glacier:\n",
    "    image = cv2.imread(str(c))\n",
    "    resizeimage = cv2.resize(image, (height,width))\n",
    "    img = resizeimage.astype(np.float32)/255.\n",
    "    label = to_categorical(2, num_classes=6)\n",
    "    X_train.append((img))\n",
    "    Y_train.append((label))\n",
    "for d in mountain:\n",
    "    image = cv2.imread(str(d))\n",
    "    resizeimage = cv2.resize(image, (height,width))\n",
    "    img = resizeimage.astype(np.float32)/255.\n",
    "    label = to_categorical(3, num_classes=6)\n",
    "    X_train.append((img))\n",
    "    Y_train.append((label))\n",
    "for e in sea:\n",
    "    image = cv2.imread(str(e))\n",
    "    resizeimage = cv2.resize(image, (height,width))\n",
    "    img = resizeimage.astype(np.float32)/255.\n",
    "    label = to_categorical(4, num_classes=6)\n",
    "    X_train.append((img))\n",
    "    Y_train.append((label))\n",
    "for f in street:\n",
    "    image = cv2.imread(str(f))\n",
    "    resizeimage = cv2.resize(image, (height,width))\n",
    "    img = resizeimage.astype(np.float32)/255.\n",
    "    label = to_categorical(5, num_classes=6)\n",
    "    X_train.append((img))\n",
    "    Y_train.append((label))\n",
    "    \n",
    "X_train = np.array(X_train)  \n",
    "Y_train = np.array(Y_train)"
   ]
  },
  {
   "cell_type": "code",
   "execution_count": 8,
   "metadata": {},
   "outputs": [
    {
     "data": {
      "text/plain": [
       "((13821, 64, 64, 3), (13821, 6))"
      ]
     },
     "execution_count": 8,
     "metadata": {},
     "output_type": "execute_result"
    }
   ],
   "source": [
    "X_train.shape ,Y_train.shape"
   ]
  },
  {
   "cell_type": "code",
   "execution_count": 9,
   "metadata": {},
   "outputs": [],
   "source": [
    "buildings_dir = test_dir / 'buildings'\n",
    "buildings     = buildings_dir.glob('*.jpg')\n",
    "\n",
    "forest_dir    = test_dir / 'forest'\n",
    "forest        = forest_dir.glob('*.jpg')\n",
    "\n",
    "glacier_dir   = test_dir / 'buildings'\n",
    "glacier       = glacier_dir.glob('*.jpg')\n",
    "\n",
    "mountain_dir  = test_dir / 'mountain'\n",
    "mountain      = mountain_dir.glob('*.jpg')\n",
    "\n",
    "sea_dir       = test_dir / 'sea'\n",
    "sea           = sea_dir.glob('*.jpg')\n",
    "\n",
    "street_dir    = test_dir / 'street'\n",
    "street        = street_dir.glob('*.jpg')"
   ]
  },
  {
   "cell_type": "code",
   "execution_count": 10,
   "metadata": {},
   "outputs": [],
   "source": [
    "#. Reading image files of test data\n",
    "for a in buildings:\n",
    "    image = cv2.imread(str(a))\n",
    "    resizeimage = cv2.resize(image, (height,width))\n",
    "    img = resizeimage.astype(np.float32)/255.\n",
    "    label = to_categorical(0, num_classes=6)\n",
    "    X_test.append((img))\n",
    "    Y_test.append((label))\n",
    "for b in forest:\n",
    "    image = cv2.imread(str(b))\n",
    "    resizeimage = cv2.resize(image, (height,width))\n",
    "    img = resizeimage.astype(np.float32)/255.\n",
    "    label = to_categorical(1, num_classes=6)\n",
    "    X_test.append((img))\n",
    "    Y_test.append((label))\n",
    "for c in glacier:\n",
    "    image = cv2.imread(str(c))\n",
    "    resizeimage = cv2.resize(image, (height,width))\n",
    "    img = resizeimage.astype(np.float32)/255.\n",
    "    label = to_categorical(2, num_classes=6)\n",
    "    X_test.append((img))\n",
    "    Y_test.append((label))\n",
    "for d in mountain:\n",
    "    image = cv2.imread(str(d))\n",
    "    resizeimage = cv2.resize(image, (height,width))\n",
    "    img = resizeimage.astype(np.float32)/255.\n",
    "    label = to_categorical(3, num_classes=6)\n",
    "    X_test.append((img))\n",
    "    Y_test.append((label))\n",
    "for e in sea:\n",
    "    image = cv2.imread(str(e))\n",
    "    resizeimage = cv2.resize(image, (height,width))\n",
    "    img = resizeimage.astype(np.float32)/255.\n",
    "    label = to_categorical(4, num_classes=6)\n",
    "    X_test.append((img))\n",
    "    Y_test.append((label))\n",
    "for f in street:\n",
    "    image = cv2.imread(str(f))\n",
    "    resizeimage = cv2.resize(image, (height,width))\n",
    "    img = resizeimage.astype(np.float32)/255.\n",
    "    label = to_categorical(5, num_classes=6)\n",
    "    X_test.append((img))\n",
    "    Y_test.append((label))\n",
    "    \n",
    "X_test = np.array(X_test)  \n",
    "Y_test = np.array(Y_test)"
   ]
  },
  {
   "cell_type": "code",
   "execution_count": 11,
   "metadata": {},
   "outputs": [
    {
     "data": {
      "text/plain": [
       "((2884, 64, 64, 3), (2884, 6))"
      ]
     },
     "execution_count": 11,
     "metadata": {},
     "output_type": "execute_result"
    }
   ],
   "source": [
    "X_test.shape ,Y_test.shape"
   ]
  },
  {
   "cell_type": "code",
   "execution_count": 12,
   "metadata": {},
   "outputs": [
    {
     "data": {
      "text/plain": [
       "(7301, 64, 64, 3)"
      ]
     },
     "execution_count": 12,
     "metadata": {},
     "output_type": "execute_result"
    }
   ],
   "source": [
    "#Reading image files of prediction data\n",
    "\n",
    "pred_all = pred_dir.glob('*.jpg')\n",
    "for p in pred_all:\n",
    "    image = cv2.imread(str(p))\n",
    "    resizeimage = cv2.resize(image, (height,width))\n",
    "    img = resizeimage.astype(np.float32)/255.\n",
    "    X_pred.append((img))\n",
    "    \n",
    "X_pred = np.array(X_pred)\n",
    "\n",
    "X_pred.shape"
   ]
  },
  {
   "cell_type": "code",
   "execution_count": 13,
   "metadata": {},
   "outputs": [
    {
     "name": "stdout",
     "output_type": "stream",
     "text": [
      "WARNING:tensorflow:From C:\\Users\\Abhishek\\Anaconda3\\envs\\PythonCPU\\lib\\site-packages\\keras\\backend\\tensorflow_backend.py:74: The name tf.get_default_graph is deprecated. Please use tf.compat.v1.get_default_graph instead.\n",
      "\n",
      "WARNING:tensorflow:From C:\\Users\\Abhishek\\Anaconda3\\envs\\PythonCPU\\lib\\site-packages\\keras\\backend\\tensorflow_backend.py:517: The name tf.placeholder is deprecated. Please use tf.compat.v1.placeholder instead.\n",
      "\n",
      "WARNING:tensorflow:From C:\\Users\\Abhishek\\Anaconda3\\envs\\PythonCPU\\lib\\site-packages\\keras\\backend\\tensorflow_backend.py:4138: The name tf.random_uniform is deprecated. Please use tf.random.uniform instead.\n",
      "\n",
      "WARNING:tensorflow:From C:\\Users\\Abhishek\\Anaconda3\\envs\\PythonCPU\\lib\\site-packages\\keras\\backend\\tensorflow_backend.py:3976: The name tf.nn.max_pool is deprecated. Please use tf.nn.max_pool2d instead.\n",
      "\n",
      "WARNING:tensorflow:From C:\\Users\\Abhishek\\Anaconda3\\envs\\PythonCPU\\lib\\site-packages\\keras\\backend\\tensorflow_backend.py:133: The name tf.placeholder_with_default is deprecated. Please use tf.compat.v1.placeholder_with_default instead.\n",
      "\n",
      "WARNING:tensorflow:From C:\\Users\\Abhishek\\Anaconda3\\envs\\PythonCPU\\lib\\site-packages\\keras\\backend\\tensorflow_backend.py:3445: calling dropout (from tensorflow.python.ops.nn_ops) with keep_prob is deprecated and will be removed in a future version.\n",
      "Instructions for updating:\n",
      "Please use `rate` instead of `keep_prob`. Rate should be set to `rate = 1 - keep_prob`.\n",
      "_________________________________________________________________\n",
      "Layer (type)                 Output Shape              Param #   \n",
      "=================================================================\n",
      "conv2d_1 (Conv2D)            (None, 64, 64, 32)        896       \n",
      "_________________________________________________________________\n",
      "max_pooling2d_1 (MaxPooling2 (None, 32, 32, 32)        0         \n",
      "_________________________________________________________________\n",
      "separable_conv2d_1 (Separabl (None, 32, 32, 64)        2400      \n",
      "_________________________________________________________________\n",
      "max_pooling2d_2 (MaxPooling2 (None, 16, 16, 64)        0         \n",
      "_________________________________________________________________\n",
      "separable_conv2d_2 (Separabl (None, 16, 16, 64)        4736      \n",
      "_________________________________________________________________\n",
      "max_pooling2d_3 (MaxPooling2 (None, 8, 8, 64)          0         \n",
      "_________________________________________________________________\n",
      "separable_conv2d_3 (Separabl (None, 8, 8, 64)          4736      \n",
      "_________________________________________________________________\n",
      "flatten_1 (Flatten)          (None, 4096)              0         \n",
      "_________________________________________________________________\n",
      "dense_1 (Dense)              (None, 250)               1024250   \n",
      "_________________________________________________________________\n",
      "dropout_1 (Dropout)          (None, 250)               0         \n",
      "_________________________________________________________________\n",
      "dense_2 (Dense)              (None, 6)                 1506      \n",
      "=================================================================\n",
      "Total params: 1,038,524\n",
      "Trainable params: 1,038,524\n",
      "Non-trainable params: 0\n",
      "_________________________________________________________________\n"
     ]
    }
   ],
   "source": [
    "model=Sequential()\n",
    "model.add(Conv2D(32, (3,3),padding=\"same\",activation=\"relu\",input_shape=(64,64,3)))\n",
    "model.add(MaxPooling2D(2,2))\n",
    "\n",
    "model.add(SeparableConv2D(64 , (3,3),padding=\"same\",activation=\"relu\"))\n",
    "model.add(MaxPooling2D(2,2))\n",
    "\n",
    "model.add(SeparableConv2D(64,(3,3),padding=\"same\",activation=\"relu\"))\n",
    "model.add(MaxPooling2D(pool_size=2))\n",
    "\n",
    "model.add(SeparableConv2D(64,(3,3),padding=\"same\",activation=\"relu\"))\n",
    "\n",
    "model.add(Flatten())\n",
    "model.add(Dense(250,activation=\"relu\"))\n",
    "model.add(Dropout(0.3))\n",
    "model.add(Dense(6,activation=\"softmax\"))\n",
    "model.summary()"
   ]
  },
  {
   "cell_type": "code",
   "execution_count": 14,
   "metadata": {},
   "outputs": [
    {
     "name": "stdout",
     "output_type": "stream",
     "text": [
      "WARNING:tensorflow:From C:\\Users\\Abhishek\\Anaconda3\\envs\\PythonCPU\\lib\\site-packages\\keras\\optimizers.py:790: The name tf.train.Optimizer is deprecated. Please use tf.compat.v1.train.Optimizer instead.\n",
      "\n",
      "WARNING:tensorflow:From C:\\Users\\Abhishek\\Anaconda3\\envs\\PythonCPU\\lib\\site-packages\\keras\\backend\\tensorflow_backend.py:3295: The name tf.log is deprecated. Please use tf.math.log instead.\n",
      "\n"
     ]
    }
   ],
   "source": [
    "model.compile(optimizer='adam',loss='categorical_crossentropy',metrics=['accuracy'])"
   ]
  },
  {
   "cell_type": "code",
   "execution_count": 15,
   "metadata": {},
   "outputs": [
    {
     "name": "stdout",
     "output_type": "stream",
     "text": [
      "WARNING:tensorflow:From C:\\Users\\Abhishek\\Anaconda3\\envs\\PythonCPU\\lib\\site-packages\\tensorflow\\python\\ops\\math_grad.py:1250: add_dispatch_support.<locals>.wrapper (from tensorflow.python.ops.array_ops) is deprecated and will be removed in a future version.\n",
      "Instructions for updating:\n",
      "Use tf.where in 2.0, which has the same broadcast rule as np.where\n",
      "Epoch 1/40\n",
      "13821/13821 [==============================] - 367s 27ms/step - loss: 1.7699 - acc: 0.2527\n",
      "Epoch 2/40\n",
      "13821/13821 [==============================] - 107s 8ms/step - loss: 1.3622 - acc: 0.4471\n",
      "Epoch 3/40\n",
      "13821/13821 [==============================] - 53s 4ms/step - loss: 1.1485 - acc: 0.5217\n",
      "Epoch 4/40\n",
      "13821/13821 [==============================] - 53s 4ms/step - loss: 1.0585 - acc: 0.5574\n",
      "Epoch 5/40\n",
      "13821/13821 [==============================] - 53s 4ms/step - loss: 0.9950 - acc: 0.5747\n",
      "Epoch 6/40\n",
      "13821/13821 [==============================] - 51s 4ms/step - loss: 0.9526 - acc: 0.5923\n",
      "Epoch 7/40\n",
      "13821/13821 [==============================] - 51s 4ms/step - loss: 0.9270 - acc: 0.5954\n",
      "Epoch 8/40\n",
      "13821/13821 [==============================] - 52s 4ms/step - loss: 0.9089 - acc: 0.6026\n",
      "Epoch 9/40\n",
      "13821/13821 [==============================] - 51s 4ms/step - loss: 0.8828 - acc: 0.6136\n",
      "Epoch 10/40\n",
      "13821/13821 [==============================] - 51s 4ms/step - loss: 0.8705 - acc: 0.6144\n",
      "Epoch 11/40\n",
      "13821/13821 [==============================] - 51s 4ms/step - loss: 0.8621 - acc: 0.6209\n",
      "Epoch 12/40\n",
      "13821/13821 [==============================] - 51s 4ms/step - loss: 0.8347 - acc: 0.6312\n",
      "Epoch 13/40\n",
      "13821/13821 [==============================] - 51s 4ms/step - loss: 0.8239 - acc: 0.6361\n",
      "Epoch 14/40\n",
      "13821/13821 [==============================] - 50s 4ms/step - loss: 0.8014 - acc: 0.6487\n",
      "Epoch 15/40\n",
      "13821/13821 [==============================] - 50s 4ms/step - loss: 0.7924 - acc: 0.6419\n",
      "Epoch 16/40\n",
      "13821/13821 [==============================] - 50s 4ms/step - loss: 0.7847 - acc: 0.6534\n",
      "Epoch 17/40\n",
      "13821/13821 [==============================] - 50s 4ms/step - loss: 0.7822 - acc: 0.6492\n",
      "Epoch 18/40\n",
      "13821/13821 [==============================] - 50s 4ms/step - loss: 0.7555 - acc: 0.6654\n",
      "Epoch 19/40\n",
      "13821/13821 [==============================] - 53s 4ms/step - loss: 0.7417 - acc: 0.6706\n",
      "Epoch 20/40\n",
      "13821/13821 [==============================] - 51s 4ms/step - loss: 0.7233 - acc: 0.6772\n",
      "Epoch 21/40\n",
      "13821/13821 [==============================] - 51s 4ms/step - loss: 0.7410 - acc: 0.6635\n",
      "Epoch 22/40\n",
      "13821/13821 [==============================] - 51s 4ms/step - loss: 0.7103 - acc: 0.6765\n",
      "Epoch 23/40\n",
      "13821/13821 [==============================] - 51s 4ms/step - loss: 0.6874 - acc: 0.6913\n",
      "Epoch 24/40\n",
      "13821/13821 [==============================] - 51s 4ms/step - loss: 0.6663 - acc: 0.6958\n",
      "Epoch 25/40\n",
      "13821/13821 [==============================] - 51s 4ms/step - loss: 0.6562 - acc: 0.6945\n",
      "Epoch 26/40\n",
      "13821/13821 [==============================] - 51s 4ms/step - loss: 0.6716 - acc: 0.6948\n",
      "Epoch 27/40\n",
      "13821/13821 [==============================] - 52s 4ms/step - loss: 0.6449 - acc: 0.7011\n",
      "Epoch 28/40\n",
      "13821/13821 [==============================] - 51s 4ms/step - loss: 0.6319 - acc: 0.7108\n",
      "Epoch 29/40\n",
      "13821/13821 [==============================] - 52s 4ms/step - loss: 0.6338 - acc: 0.7102\n",
      "Epoch 30/40\n",
      "13821/13821 [==============================] - 51s 4ms/step - loss: 0.6150 - acc: 0.7156\n",
      "Epoch 31/40\n",
      "13821/13821 [==============================] - 52s 4ms/step - loss: 0.6067 - acc: 0.7183\n",
      "Epoch 32/40\n",
      "13821/13821 [==============================] - 51s 4ms/step - loss: 0.6096 - acc: 0.7143\n",
      "Epoch 33/40\n",
      "13821/13821 [==============================] - 51s 4ms/step - loss: 0.5959 - acc: 0.7235\n",
      "Epoch 34/40\n",
      "13821/13821 [==============================] - 51s 4ms/step - loss: 0.5812 - acc: 0.7272\n",
      "Epoch 35/40\n",
      "13821/13821 [==============================] - 52s 4ms/step - loss: 0.5661 - acc: 0.7301\n",
      "Epoch 36/40\n",
      "13821/13821 [==============================] - 51s 4ms/step - loss: 0.5877 - acc: 0.7297\n",
      "Epoch 37/40\n",
      "13821/13821 [==============================] - 51s 4ms/step - loss: 0.5642 - acc: 0.7290\n",
      "Epoch 38/40\n",
      "13821/13821 [==============================] - 52s 4ms/step - loss: 0.5608 - acc: 0.7336\n",
      "Epoch 39/40\n",
      "13821/13821 [==============================] - 51s 4ms/step - loss: 0.5534 - acc: 0.7324\n",
      "Epoch 40/40\n",
      "13821/13821 [==============================] - 52s 4ms/step - loss: 0.5383 - acc: 0.7391\n"
     ]
    },
    {
     "data": {
      "text/plain": [
       "<keras.callbacks.History at 0x21628a13748>"
      ]
     },
     "execution_count": 15,
     "metadata": {},
     "output_type": "execute_result"
    }
   ],
   "source": [
    "# training the model\n",
    "\n",
    "model.fit(X_train ,Y_train , batch_size=500 ,epochs=40)"
   ]
  },
  {
   "cell_type": "code",
   "execution_count": 16,
   "metadata": {},
   "outputs": [
    {
     "name": "stdout",
     "output_type": "stream",
     "text": [
      "2884/2884 [==============================] - 22s 8ms/step\n",
      "0.6151567558640415\n",
      "0.7233009708737864\n"
     ]
    }
   ],
   "source": [
    "loss, accuracy  = model.evaluate(X_test,Y_test)\n",
    "\n",
    "print(loss)\n",
    "print(accuracy)"
   ]
  },
  {
   "cell_type": "code",
   "execution_count": null,
   "metadata": {},
   "outputs": [],
   "source": []
  }
 ],
 "metadata": {
  "kernelspec": {
   "display_name": "Python 3",
   "language": "python",
   "name": "python3"
  },
  "language_info": {
   "codemirror_mode": {
    "name": "ipython",
    "version": 3
   },
   "file_extension": ".py",
   "mimetype": "text/x-python",
   "name": "python",
   "nbconvert_exporter": "python",
   "pygments_lexer": "ipython3",
   "version": "3.7.4"
  }
 },
 "nbformat": 4,
 "nbformat_minor": 2
}
